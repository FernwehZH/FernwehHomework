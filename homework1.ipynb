{
 "cells": [
  {
   "cell_type": "code",
   "execution_count": 4,
   "metadata": {},
   "outputs": [],
   "source": [
    "import numpy as np"
   ]
  },
  {
   "cell_type": "code",
   "execution_count": 5,
   "metadata": {},
   "outputs": [
    {
     "name": "stdout",
     "output_type": "stream",
     "text": [
      "1 2 3 5\n",
      "1 2 5 3\n",
      "1 3 2 5\n",
      "1 3 5 2\n",
      "1 5 2 3\n",
      "1 5 3 2\n",
      "2 1 3 5\n",
      "2 1 5 3\n",
      "2 3 1 5\n",
      "2 3 5 1\n",
      "2 5 1 3\n",
      "2 5 3 1\n",
      "3 1 2 5\n",
      "3 1 5 2\n",
      "3 2 1 5\n",
      "3 2 5 1\n",
      "3 5 1 2\n",
      "3 5 2 1\n",
      "5 1 2 3\n",
      "5 1 3 2\n",
      "5 2 1 3\n",
      "5 2 3 1\n",
      "5 3 1 2\n",
      "5 3 2 1\n"
     ]
    }
   ],
   "source": [
    "L=[1,2,3,5]\n",
    "for i in L:\n",
    "    for k in L:\n",
    "        for j in L:\n",
    "            for q in L:\n",
    "                if (i!=k) and (k!=j) and (j!=q) and (q!=i) and(q!=k) and(j!=i):\n",
    "                    print (i,k,j,q)"
   ]
  },
  {
   "cell_type": "code",
   "execution_count": 19,
   "metadata": {},
   "outputs": [
    {
     "name": "stdout",
     "output_type": "stream",
     "text": [
      "[1, 1, 2, 3, 5, 8, 13, 21, 34, 55, 89, 144, 233, 377, 610, 987, 1597, 2584, 4181, 6765]\n",
      "17710\n"
     ]
    }
   ],
   "source": [
    "list1=[]\n",
    "for i in range(20):\n",
    "    if i==0 or i==1:\n",
    "        list1.append(1)\n",
    "    else:\n",
    "        list1.append(list1[-2]+list1[-1])\n",
    "print (list1)\n",
    "print(np.sum(list1))"
   ]
  },
  {
   "cell_type": "code",
   "execution_count": 15,
   "metadata": {},
   "outputs": [
    {
     "name": "stdout",
     "output_type": "stream",
     "text": [
      "[2, 11, 13, 17, 19, 31, 37, 53, 59, 71, 73, 79, 97, 101, 103, 107, 109, 127, 149, 163, 167, 181]\n"
     ]
    }
   ],
   "source": [
    "list2=[]\n",
    "i=2\n",
    "for i in range (2,201):\n",
    "    a= i% 10\n",
    "    b= (i//10)%10\n",
    "    c= i//100\n",
    "    d=a+b+c\n",
    "    j=2\n",
    "    for j in range(2,i):\n",
    "        if(i%j==0):\n",
    "            break\n",
    "        elif (d % 2)!=0:\n",
    "            break\n",
    "    else:\n",
    "        list2.append(i)\n",
    "print(list2)"
   ]
  },
  {
   "cell_type": "code",
   "execution_count": 22,
   "metadata": {},
   "outputs": [
    {
     "name": "stdout",
     "output_type": "stream",
     "text": [
      "  EnglishName  birthday sex\n",
      "0          Lu  19980101   M\n",
      "1       Zhong  19980102   M\n",
      "2        Teng  19980103   M\n",
      "3         Zhu  19980104   F\n",
      "4         Liu  19980105   F\n",
      "5        Yang  19980106   F\n",
      "6          Xu  19980107   F\n"
     ]
    }
   ],
   "source": [
    "from pandas import Series,DataFrame\n",
    "import pandas as pd\n",
    "data = {'EnglishName':Series(['Lu','Zhong','Teng','Zhu','Liu','Yang','Xu']),\n",
    "       'birthday':Series([\"19980101\",\"19980102\",\"19980103\",\"19980104\",\"19980105\",\"19980106\",\"19980107\",]),\n",
    "       'sex':Series([\"M\",\"M\",\"M\",\"F\",\"F\",\"F\",\"F\"])}\n",
    "df = DataFrame(data)\n",
    "print(df)"
   ]
  },
  {
   "cell_type": "code",
   "execution_count": null,
   "metadata": {},
   "outputs": [],
   "source": []
  }
 ],
 "metadata": {
  "kernelspec": {
   "display_name": "Python 3",
   "language": "python",
   "name": "python3"
  },
  "language_info": {
   "codemirror_mode": {
    "name": "ipython",
    "version": 3
   },
   "file_extension": ".py",
   "mimetype": "text/x-python",
   "name": "python",
   "nbconvert_exporter": "python",
   "pygments_lexer": "ipython3",
   "version": "3.6.5"
  }
 },
 "nbformat": 4,
 "nbformat_minor": 2
}
